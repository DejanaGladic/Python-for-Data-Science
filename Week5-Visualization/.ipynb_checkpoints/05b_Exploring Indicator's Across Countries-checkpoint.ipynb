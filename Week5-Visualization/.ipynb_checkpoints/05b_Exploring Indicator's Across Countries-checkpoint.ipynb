{
 "cells": [
  {
   "cell_type": "code",
   "execution_count": null,
   "metadata": {},
   "outputs": [],
   "source": [
    "# Data Source: https://www.kaggle.com/worldbank/world-development-indicators\n",
    "# Folder: 'world-development-indicators'"
   ]
  },
  {
   "cell_type": "markdown",
   "metadata": {},
   "source": [
    "<br><p style=\"font-family: Arial; font-size:3.75em;color:purple; font-style:bold\">\n",
    "World Development Indicators</p><br><br>\n",
    "# Exploring Data Visualization Using Matplotlib"
   ]
  },
  {
   "cell_type": "code",
   "execution_count": 1,
   "metadata": {},
   "outputs": [],
   "source": [
    "import pandas as pd\n",
    "import numpy as np\n",
    "import random\n",
    "import matplotlib.pyplot as plt"
   ]
  },
  {
   "cell_type": "code",
   "execution_count": 4,
   "metadata": {},
   "outputs": [
    {
     "data": {
      "text/plain": [
       "(5656458, 6)"
      ]
     },
     "execution_count": 4,
     "metadata": {},
     "output_type": "execute_result"
    }
   ],
   "source": [
    "data = pd.read_csv('./datasets/Indicators.csv')\n",
    "data.shape"
   ]
  },
  {
   "cell_type": "code",
   "execution_count": 5,
   "metadata": {},
   "outputs": [],
   "source": [
    "# use just coutries and indicators for these countries\n",
    "countries = data['CountryName'].unique().tolist()\n",
    "indicators = data['IndicatorName'].unique().tolist()"
   ]
  },
  {
   "cell_type": "markdown",
   "metadata": {},
   "source": [
    "This is a really large dataset, at least in terms of the number of rows.  But with 6 columns, what does this hold?"
   ]
  },
  {
   "cell_type": "code",
   "execution_count": 6,
   "metadata": {},
   "outputs": [
    {
     "data": {
      "text/html": [
       "<div>\n",
       "<style scoped>\n",
       "    .dataframe tbody tr th:only-of-type {\n",
       "        vertical-align: middle;\n",
       "    }\n",
       "\n",
       "    .dataframe tbody tr th {\n",
       "        vertical-align: top;\n",
       "    }\n",
       "\n",
       "    .dataframe thead th {\n",
       "        text-align: right;\n",
       "    }\n",
       "</style>\n",
       "<table border=\"1\" class=\"dataframe\">\n",
       "  <thead>\n",
       "    <tr style=\"text-align: right;\">\n",
       "      <th></th>\n",
       "      <th>CountryName</th>\n",
       "      <th>CountryCode</th>\n",
       "      <th>IndicatorName</th>\n",
       "      <th>IndicatorCode</th>\n",
       "      <th>Year</th>\n",
       "      <th>Value</th>\n",
       "    </tr>\n",
       "  </thead>\n",
       "  <tbody>\n",
       "    <tr>\n",
       "      <th>0</th>\n",
       "      <td>Arab World</td>\n",
       "      <td>ARB</td>\n",
       "      <td>Adolescent fertility rate (births per 1,000 wo...</td>\n",
       "      <td>SP.ADO.TFRT</td>\n",
       "      <td>1960</td>\n",
       "      <td>133.560907</td>\n",
       "    </tr>\n",
       "    <tr>\n",
       "      <th>1</th>\n",
       "      <td>Arab World</td>\n",
       "      <td>ARB</td>\n",
       "      <td>Age dependency ratio (% of working-age populat...</td>\n",
       "      <td>SP.POP.DPND</td>\n",
       "      <td>1960</td>\n",
       "      <td>87.797601</td>\n",
       "    </tr>\n",
       "  </tbody>\n",
       "</table>\n",
       "</div>"
      ],
      "text/plain": [
       "  CountryName CountryCode                                      IndicatorName  \\\n",
       "0  Arab World         ARB  Adolescent fertility rate (births per 1,000 wo...   \n",
       "1  Arab World         ARB  Age dependency ratio (% of working-age populat...   \n",
       "\n",
       "  IndicatorCode  Year       Value  \n",
       "0   SP.ADO.TFRT  1960  133.560907  \n",
       "1   SP.POP.DPND  1960   87.797601  "
      ]
     },
     "execution_count": 6,
     "metadata": {},
     "output_type": "execute_result"
    }
   ],
   "source": [
    "data.head(2)"
   ]
  },
  {
   "cell_type": "markdown",
   "metadata": {},
   "source": [
    "Looks like it has different indicators for different countries with the year and value of the indicator. "
   ]
  },
  {
   "cell_type": "markdown",
   "metadata": {},
   "source": [
    "We already saw how the USA's per-capita CO2 production related to other countries, let's see if we can find some more indicators in common between countries.  \n",
    "\n",
    "To have some fun, we've picked countries randomly but then stored our random results so you can rerun it with the same answers."
   ]
  },
  {
   "cell_type": "code",
   "execution_count": 7,
   "metadata": {},
   "outputs": [],
   "source": [
    "# Filter 1 - use 5 years\n",
    "\n",
    "# Picks years of choice\n",
    "yearsFilter = [2010, 2011, 2012, 2013, 2014]"
   ]
  },
  {
   "cell_type": "code",
   "execution_count": 8,
   "metadata": {
    "scrolled": false
   },
   "outputs": [],
   "source": [
    "# Filter 2 - use 2 countries\n",
    "\n",
    "# Pick 2 countries randomly\n",
    "countryFilter = random.sample(countries, 2)"
   ]
  },
  {
   "cell_type": "code",
   "execution_count": 9,
   "metadata": {},
   "outputs": [
    {
     "data": {
      "text/plain": [
       "['Ecuador', 'Serbia']"
      ]
     },
     "execution_count": 9,
     "metadata": {},
     "output_type": "execute_result"
    }
   ],
   "source": [
    "countryFilter"
   ]
  },
  {
   "cell_type": "code",
   "execution_count": 10,
   "metadata": {},
   "outputs": [
    {
     "data": {
      "text/plain": [
       "['Population in the largest city (% of urban population)']"
      ]
     },
     "execution_count": 10,
     "metadata": {},
     "output_type": "execute_result"
    }
   ],
   "source": [
    "# Filter 3 - use 1 indicator\n",
    "\n",
    "# Pick 1 Indicator randomly\n",
    "indicatorsFilter = random.sample(indicators, 1)\n",
    "indicatorsFilter"
   ]
  },
  {
   "cell_type": "markdown",
   "metadata": {},
   "source": [
    "# Problem:  We're missing data.\n",
    "# Not all countries have all indicators for all years\n",
    "\n",
    "To solve this, we'll need to find two countries and two indicators for which we have data over this time range."
   ]
  },
  {
   "cell_type": "code",
   "execution_count": 12,
   "metadata": {},
   "outputs": [
    {
     "data": {
      "text/plain": [
       "'Ecuador'"
      ]
     },
     "execution_count": 12,
     "metadata": {},
     "output_type": "execute_result"
    }
   ],
   "source": [
    "#for first country check whether it has indicator in the indicator list and for years in the range\n",
    "filterMesh = (data['CountryName'] == countryFilter[0]) & (data['IndicatorName'].isin(indicatorsFilter)) & (data['Year'].isin(yearsFilter))\n",
    "#check every row and gets true/false according to the condition\n",
    "filterMesh"
   ]
  },
  {
   "cell_type": "code",
   "execution_count": 13,
   "metadata": {},
   "outputs": [],
   "source": [
    "#access the rows for which filterMesh is True\n",
    "country1_data = data.loc[filterMesh]"
   ]
  },
  {
   "cell_type": "code",
   "execution_count": 14,
   "metadata": {},
   "outputs": [
    {
     "data": {
      "text/plain": [
       "5"
      ]
     },
     "execution_count": 14,
     "metadata": {},
     "output_type": "execute_result"
    }
   ],
   "source": [
    "# we got 5 rows - I assume for every year\n",
    "len(country1_data)"
   ]
  },
  {
   "cell_type": "code",
   "execution_count": 15,
   "metadata": {},
   "outputs": [],
   "source": [
    "#same with the second country\n",
    "filterMesh = (data['CountryName'] == countryFilter[1]) & (data['IndicatorName'].isin(indicatorsFilter)) & (data['Year'].isin(yearsFilter))\n",
    "country2_data = data.loc[filterMesh]"
   ]
  },
  {
   "cell_type": "code",
   "execution_count": 17,
   "metadata": {},
   "outputs": [
    {
     "data": {
      "text/plain": [
       "5"
      ]
     },
     "execution_count": 17,
     "metadata": {},
     "output_type": "execute_result"
    }
   ],
   "source": [
    "#5 rows too - I assume for every year\n",
    "len(country2_data)"
   ]
  },
  {
   "cell_type": "markdown",
   "metadata": {},
   "source": [
    "# So let's pick indicators and countries which have data over this time range\n",
    "\n",
    "The code below will randomly pick countries and indicators until it finds two countries who have data for an indicator over this time frame. We used it to produce the fixed values you see later, feel free to play with this yourself!"
   ]
  },
  {
   "cell_type": "code",
   "execution_count": 18,
   "metadata": {},
   "outputs": [],
   "source": [
    "filteredData1 = []\n",
    "filteredData2 = []"
   ]
  },
  {
   "cell_type": "code",
   "execution_count": 19,
   "metadata": {},
   "outputs": [
    {
     "name": "stdout",
     "output_type": "stream",
     "text": [
      "Skipping ... ['Children in employment, self-employed (% of children in employment, ages 7-14)'] since very few rows (0) found\n"
     ]
    }
   ],
   "source": [
    "'''\n",
    "Plot: \n",
    "countryFilter:    pick two countries, \n",
    "indicatorsFilter: pick an indicator, \n",
    "yearsFilter: plot for years in yearsFilter\n",
    "'''\n",
    "#I have it for previous example but never mind I will do that again\n",
    "# problem - not all countries have all indicators so if you go to visualize, it'll have missing data.\n",
    "# randomly picking two indicators and countries, do these countries have valid data over those years.\n",
    "# brings up the discussion of missing data/ missing fields\n",
    "# until we find full data\n",
    "\n",
    "while(len(filteredData1) < len(yearsFilter)-1):\n",
    "    # pick new indicator\n",
    "    indicatorsFilter = random.sample(indicators, 1)\n",
    "    countryFilter    = random.sample(countries, 2)\n",
    "    # how many rows are there that have this country name, this indicator, and this year.  Mesh gives bool vector\n",
    "    filterMesh = (data['CountryName'] == countryFilter[0]) & (data['IndicatorName'].isin(indicatorsFilter)) & (data['Year'].isin(yearsFilter))\n",
    "    # which rows have this condition to be true?\n",
    "    filteredData1 = data.loc[filterMesh]\n",
    "    filteredData1 = filteredData1[['CountryName','IndicatorName','Year','Value']]\n",
    "\n",
    "    # need to print this only when our while condition is true\n",
    "    if(len(filteredData1) < len(yearsFilter)-1):\n",
    "        print('Skipping ... %s since very few rows (%d) found' % (indicatorsFilter, len(filteredData1)))\n"
   ]
  },
  {
   "cell_type": "code",
   "execution_count": 20,
   "metadata": {},
   "outputs": [
    {
     "data": {
      "text/plain": [
       "['Land under cereal production (hectares)']"
      ]
     },
     "execution_count": 20,
     "metadata": {},
     "output_type": "execute_result"
    }
   ],
   "source": [
    "# What did we pick eventually ?\n",
    "indicatorsFilter"
   ]
  },
  {
   "cell_type": "code",
   "execution_count": 21,
   "metadata": {},
   "outputs": [
    {
     "data": {
      "text/plain": [
       "4"
      ]
     },
     "execution_count": 21,
     "metadata": {},
     "output_type": "execute_result"
    }
   ],
   "source": [
    "len(filteredData1)"
   ]
  },
  {
   "cell_type": "code",
   "execution_count": 22,
   "metadata": {},
   "outputs": [],
   "source": [
    "'''\n",
    "Country 2\n",
    "'''\n",
    "\n",
    "while(len(filteredData2) < len(filteredData1)-1):\n",
    "    filterMesh = (data['CountryName'] == countryFilter[1]) & (data['IndicatorName'].isin(indicatorsFilter)) & (data['Year'].isin(yearsFilter))\n",
    "    filteredData2 = data.loc[filterMesh]\n",
    "    filteredData2 = filteredData2[['CountryName','IndicatorName','Year','Value']]\n",
    "    #pick new indicator\n",
    "    old = countryFilter[1]\n",
    "    countryFilter[1]    = random.sample(countries, 1)[0]\n",
    "    \n",
    "    if(len(filteredData2) < len(filteredData1)-1):\n",
    "        print('Skipping ... %s, since very few rows (%d) found' % (old, len(filteredData2)))"
   ]
  },
  {
   "cell_type": "code",
   "execution_count": 23,
   "metadata": {},
   "outputs": [],
   "source": [
    "if len(filteredData1) < len(filteredData2):\n",
    "    small = len(filteredData1)\n",
    "else:\n",
    "    small = len(filteredData2)"
   ]
  },
  {
   "cell_type": "code",
   "execution_count": 24,
   "metadata": {},
   "outputs": [],
   "source": [
    "filteredData1=filteredData1[0:small]\n",
    "filteredData2=filteredData2[0:small]"
   ]
  },
  {
   "cell_type": "code",
   "execution_count": 25,
   "metadata": {},
   "outputs": [
    {
     "data": {
      "text/html": [
       "<div>\n",
       "<style scoped>\n",
       "    .dataframe tbody tr th:only-of-type {\n",
       "        vertical-align: middle;\n",
       "    }\n",
       "\n",
       "    .dataframe tbody tr th {\n",
       "        vertical-align: top;\n",
       "    }\n",
       "\n",
       "    .dataframe thead th {\n",
       "        text-align: right;\n",
       "    }\n",
       "</style>\n",
       "<table border=\"1\" class=\"dataframe\">\n",
       "  <thead>\n",
       "    <tr style=\"text-align: right;\">\n",
       "      <th></th>\n",
       "      <th>CountryName</th>\n",
       "      <th>IndicatorName</th>\n",
       "      <th>Year</th>\n",
       "      <th>Value</th>\n",
       "    </tr>\n",
       "  </thead>\n",
       "  <tbody>\n",
       "    <tr>\n",
       "      <th>4854877</th>\n",
       "      <td>Middle income</td>\n",
       "      <td>Land under cereal production (hectares)</td>\n",
       "      <td>2010</td>\n",
       "      <td>4.378877e+08</td>\n",
       "    </tr>\n",
       "    <tr>\n",
       "      <th>5040847</th>\n",
       "      <td>Middle income</td>\n",
       "      <td>Land under cereal production (hectares)</td>\n",
       "      <td>2011</td>\n",
       "      <td>4.409476e+08</td>\n",
       "    </tr>\n",
       "    <tr>\n",
       "      <th>5216989</th>\n",
       "      <td>Middle income</td>\n",
       "      <td>Land under cereal production (hectares)</td>\n",
       "      <td>2012</td>\n",
       "      <td>4.381359e+08</td>\n",
       "    </tr>\n",
       "    <tr>\n",
       "      <th>5390860</th>\n",
       "      <td>Middle income</td>\n",
       "      <td>Land under cereal production (hectares)</td>\n",
       "      <td>2013</td>\n",
       "      <td>4.519984e+08</td>\n",
       "    </tr>\n",
       "  </tbody>\n",
       "</table>\n",
       "</div>"
      ],
      "text/plain": [
       "           CountryName                            IndicatorName  Year  \\\n",
       "4854877  Middle income  Land under cereal production (hectares)  2010   \n",
       "5040847  Middle income  Land under cereal production (hectares)  2011   \n",
       "5216989  Middle income  Land under cereal production (hectares)  2012   \n",
       "5390860  Middle income  Land under cereal production (hectares)  2013   \n",
       "\n",
       "                Value  \n",
       "4854877  4.378877e+08  \n",
       "5040847  4.409476e+08  \n",
       "5216989  4.381359e+08  \n",
       "5390860  4.519984e+08  "
      ]
     },
     "execution_count": 25,
     "metadata": {},
     "output_type": "execute_result"
    }
   ],
   "source": [
    "filteredData1"
   ]
  },
  {
   "cell_type": "code",
   "execution_count": 26,
   "metadata": {},
   "outputs": [
    {
     "data": {
      "text/html": [
       "<div>\n",
       "<style scoped>\n",
       "    .dataframe tbody tr th:only-of-type {\n",
       "        vertical-align: middle;\n",
       "    }\n",
       "\n",
       "    .dataframe tbody tr th {\n",
       "        vertical-align: top;\n",
       "    }\n",
       "\n",
       "    .dataframe thead th {\n",
       "        text-align: right;\n",
       "    }\n",
       "</style>\n",
       "<table border=\"1\" class=\"dataframe\">\n",
       "  <thead>\n",
       "    <tr style=\"text-align: right;\">\n",
       "      <th></th>\n",
       "      <th>CountryName</th>\n",
       "      <th>IndicatorName</th>\n",
       "      <th>Year</th>\n",
       "      <th>Value</th>\n",
       "    </tr>\n",
       "  </thead>\n",
       "  <tbody>\n",
       "    <tr>\n",
       "      <th>5019958</th>\n",
       "      <td>Uzbekistan</td>\n",
       "      <td>Land under cereal production (hectares)</td>\n",
       "      <td>2010</td>\n",
       "      <td>1635300.0</td>\n",
       "    </tr>\n",
       "    <tr>\n",
       "      <th>5196480</th>\n",
       "      <td>Uzbekistan</td>\n",
       "      <td>Land under cereal production (hectares)</td>\n",
       "      <td>2011</td>\n",
       "      <td>1491943.0</td>\n",
       "    </tr>\n",
       "    <tr>\n",
       "      <th>5371603</th>\n",
       "      <td>Uzbekistan</td>\n",
       "      <td>Land under cereal production (hectares)</td>\n",
       "      <td>2012</td>\n",
       "      <td>1599831.0</td>\n",
       "    </tr>\n",
       "    <tr>\n",
       "      <th>5528891</th>\n",
       "      <td>Uzbekistan</td>\n",
       "      <td>Land under cereal production (hectares)</td>\n",
       "      <td>2013</td>\n",
       "      <td>1616569.0</td>\n",
       "    </tr>\n",
       "  </tbody>\n",
       "</table>\n",
       "</div>"
      ],
      "text/plain": [
       "        CountryName                            IndicatorName  Year      Value\n",
       "5019958  Uzbekistan  Land under cereal production (hectares)  2010  1635300.0\n",
       "5196480  Uzbekistan  Land under cereal production (hectares)  2011  1491943.0\n",
       "5371603  Uzbekistan  Land under cereal production (hectares)  2012  1599831.0\n",
       "5528891  Uzbekistan  Land under cereal production (hectares)  2013  1616569.0"
      ]
     },
     "execution_count": 26,
     "metadata": {},
     "output_type": "execute_result"
    }
   ],
   "source": [
    "filteredData2"
   ]
  },
  {
   "cell_type": "markdown",
   "metadata": {},
   "source": [
    "<br><p style=\"font-family: Arial; font-size:2.75em;color:blue; font-style:bold\">\n",
    "Matplotlib: Additional Examples</p><br>"
   ]
  },
  {
   "cell_type": "markdown",
   "metadata": {},
   "source": [
    "## Example: Scatter Plot\n",
    "\n",
    "Now that we have the data for two countries for the same indicators, let's plot them using a scatterplot."
   ]
  },
  {
   "cell_type": "code",
   "execution_count": 27,
   "metadata": {},
   "outputs": [
    {
     "data": {
      "text/plain": [
       "<matplotlib.collections.PathCollection at 0x2cf80050f90>"
      ]
     },
     "execution_count": 27,
     "metadata": {},
     "output_type": "execute_result"
    },
    {
     "data": {
      "image/png": "[encoded data removed]",
      "text/plain": [
       "<Figure size 640x480 with 1 Axes>"
      ]
     },
     "metadata": {},
     "output_type": "display_data"
    }
   ],
   "source": [
    "%matplotlib inline\n",
    "import matplotlib.pyplot as plt\n",
    "\n",
    "fig, axis = plt.subplots()\n",
    "# Grid lines, Xticks, Xlabel, Ylabel\n",
    "\n",
    "axis.yaxis.grid(True)\n",
    "axis.set_title(indicatorsFilter[0],fontsize=10) #for first indicator\n",
    "axis.set_xlabel(filteredData1['CountryName'].iloc[0],fontsize=10) #first country\n",
    "axis.set_ylabel(filteredData2['CountryName'].iloc[0],fontsize=10) #second country - label is wrong??\n",
    "\n",
    "#on X and Y will be value for property Value from apropriate dataframe\n",
    "X = filteredData1['Value']\n",
    "Y = filteredData2['Value']\n",
    "\n",
    "axis.scatter(X, Y)"
   ]
  },
  {
   "cell_type": "markdown",
   "metadata": {},
   "source": [
    "## Example: Line Plot\n",
    "\n",
    "Here we'll plot the indicator over time for each country."
   ]
  },
  {
   "cell_type": "code",
   "execution_count": null,
   "metadata": {},
   "outputs": [],
   "source": [
    "import matplotlib.pyplot as plt\n",
    "\n",
    "fig, ax = plt.subplots(figsize=(20, 10))\n",
    "\n",
    "ax.set_ylim(min(0,filteredData1['Value'].min()), 2*filteredData1['Value'].max())\n",
    "ax.set_title('Indicator Name : ' + indicatorsFilter[0])\n",
    "ax.plot(filteredData1['Year'], filteredData1['Value'] , 'r--', label=filteredData1['CountryName'].unique()) \n",
    "\n",
    "# Add the legend\n",
    "legend = plt.legend(loc = 'upper center', \n",
    "                    shadow=True,\n",
    "                    prop={'weight':'roman','size':'xx-large'})\n",
    "\n",
    "# Rectangle around the legend\n",
    "frame = legend.get_frame()\n",
    "frame.set_facecolor('.95')\n",
    "plt.show()"
   ]
  },
  {
   "cell_type": "markdown",
   "metadata": {},
   "source": [
    "## Let's plot country #2"
   ]
  },
  {
   "cell_type": "code",
   "execution_count": null,
   "metadata": {},
   "outputs": [],
   "source": [
    "import matplotlib.pyplot as plt\n",
    "fig, ax = plt.subplots(figsize=(20, 10))\n",
    "\n",
    "# Adjust the lower and upper limit to bring the graph at center\n",
    "ax.set_ylim(min(0,filteredData2['Value'].min()), 2*filteredData2['Value'].max())\n",
    "\n",
    "ax.set_title('Indicator Name : ' + indicatorsFilter[0])\n",
    "ax.plot(filteredData2['Year'], filteredData2['Value'] ,\n",
    "         label=filteredData2['CountryName'].unique(),\n",
    "         color=\"purple\", lw=1, ls='-', \n",
    "         marker='s', markersize=20, \n",
    "         markerfacecolor=\"yellow\", markeredgewidth=4, markeredgecolor=\"blue\") \n",
    "\n",
    "# Add the legend\n",
    "legend = plt.legend(loc = 'upper left', \n",
    "                    shadow=True,\n",
    "                    prop={'weight':'roman','size':'xx-large'})\n",
    "\n",
    "# Rectangle around the legend\n",
    "frame = legend.get_frame()\n",
    "frame.set_facecolor('.95')\n",
    "plt.show()"
   ]
  },
  {
   "cell_type": "markdown",
   "metadata": {
    "collapsed": true
   },
   "source": [
    "# Example (random datasets)"
   ]
  },
  {
   "cell_type": "code",
   "execution_count": null,
   "metadata": {},
   "outputs": [],
   "source": [
    "from mpl_toolkits.mplot3d import Axes3D\n",
    "from matplotlib import cm\n",
    "import matplotlib.pyplot as plt\n",
    "import numpy as np\n",
    "\n",
    "countof_angles = 36\n",
    "countof_radii  = 8\n",
    "\n",
    "# array - radii\n",
    "array_rad = np.linspace(0.125, 1.0, countof_radii)\n",
    "\n",
    "# array - angles\n",
    "array_ang = np.linspace(0, 2*np.pi, countof_angles, endpoint=False)\n",
    "\n",
    "# repeat all angles per radius\n",
    "array_ang = np.repeat(array_ang[...,np.newaxis], countof_radii, axis=1)\n",
    "\n",
    "# from polar (radii, angles) coords to cartesian (x, y) coords\n",
    "x = np.append(0, (array_rad*np.cos(array_ang)).flatten())\n",
    "y = np.append(0, (array_rad*np.sin(array_ang)).flatten())\n",
    "\n",
    "# saddle shaped surface\n",
    "z = np.sin(-x*y)\n",
    "\n",
    "fig = plt.figure(figsize=(20,10))\n",
    "ax  = fig.gca(projection='3d')\n",
    "\n",
    "ax.plot_trisurf(x, y, z, cmap=cm.autumn, linewidth=0.2)\n",
    "\n",
    "plt.show()\n",
    "fig.savefig(\"vis_3d.png\")"
   ]
  },
  {
   "cell_type": "markdown",
   "metadata": {},
   "source": [
    "# Example (random dataset)"
   ]
  },
  {
   "cell_type": "code",
   "execution_count": null,
   "metadata": {},
   "outputs": [],
   "source": [
    "%matplotlib inline\n",
    "\n",
    "import numpy as np\n",
    "import matplotlib.pyplot as plt\n",
    "\n",
    "n_points = 200\n",
    "\n",
    "radius   = 2 * np.random.rand(n_points)\n",
    "angles   = 2 * (np.pi) * np.random.rand(n_points)\n",
    "area     = 400 * (radius**2) * np.random.rand(n_points)\n",
    "\n",
    "colors = angles\n",
    "\n",
    "fig = plt.figure(figsize=(20,10))\n",
    "ax  = plt.subplot(111, polar=True)\n",
    "\n",
    "c = plt.scatter(angles, radius, c=colors, s=area, cmap=plt.cm.hsv)\n",
    "c.set_alpha(1.95)\n",
    "\n",
    "plt.show()\n",
    "fig.savefig(\"vis_bubbleplot.png\")"
   ]
  },
  {
   "cell_type": "markdown",
   "metadata": {},
   "source": [
    "# Example 4: Box Plots (random datasets)"
   ]
  },
  {
   "cell_type": "code",
   "execution_count": null,
   "metadata": {},
   "outputs": [],
   "source": [
    "np.random.seed(452)\n",
    "\n",
    "# Three ararys of 100 points each\n",
    "A1 = np.random.normal(0, 1, 100)\n",
    "A2 = np.random.normal(0, 2, 100)\n",
    "A3 = np.random.normal(0, 1.5, 100)\n",
    "\n",
    "# Concatenate the three arrays\n",
    "data = [ A1, A2, A3 ]\n",
    "\n",
    "fig, axes = plt.subplots(nrows=1, ncols=2, figsize=(20, 10))\n",
    "\n",
    "\n",
    "# Box plot: Notch Shape\n",
    "bplot1 = axes[1].boxplot(data,\n",
    "                         notch=True,  \n",
    "                         vert=True,           # vertical aligmnent\n",
    "                         patch_artist=True)   # color\n",
    "\n",
    "# Box plot: Rectangular \n",
    "bplot2 = axes[0].boxplot(data,\n",
    "                         vert=True,           # vertical aligmnent\n",
    "                         patch_artist=True)   # color\n",
    "\n",
    "\n",
    "\n",
    "\n",
    "colors = ['tomato', 'darkorchid', 'lime']\n",
    "# more colors here: http://matplotlib.org/examples/color/named_colors.html\n",
    "\n",
    "for bplot in (bplot1, bplot2):\n",
    "    for patch, color in zip(bplot['boxes'], colors):\n",
    "        patch.set_facecolor(color)\n",
    "\n",
    "# Grid lines, Xticks, Xlabel, Ylabel\n",
    "for axis in axes:\n",
    "    axis.yaxis.grid(True)\n",
    "    axis.set_xticks([y for y in range(len(data))], )\n",
    "    axis.set_xlabel('Sample X-Label',fontsize=20)\n",
    "    axis.set_ylabel('Sample Y-Label',fontsize=20)\n",
    "\n",
    "    \n",
    "# Xtick labels\n",
    "plt.setp(axes, xticks=[y for y in range(len(data))],\n",
    "         xticklabels=['X1', 'X2', 'X3'])\n",
    "\n",
    "plt.show()\n",
    "fig.savefig(\"vis_boxplot.png\")"
   ]
  },
  {
   "cell_type": "markdown",
   "metadata": {
    "collapsed": true
   },
   "source": [
    "## Want more ? \n",
    "\n",
    "### Matplotlib Examples Library"
   ]
  },
  {
   "cell_type": "markdown",
   "metadata": {},
   "source": [
    "http://matplotlib.org/examples/index.html"
   ]
  },
  {
   "cell_type": "code",
   "execution_count": null,
   "metadata": {},
   "outputs": [],
   "source": []
  }
 ],
 "metadata": {
  "kernelspec": {
   "display_name": "Python 3 (ipykernel)",
   "language": "python",
   "name": "python3"
  },
  "language_info": {
   "codemirror_mode": {
    "name": "ipython",
    "version": 3
   },
   "file_extension": ".py",
   "mimetype": "text/x-python",
   "name": "python",
   "nbconvert_exporter": "python",
   "pygments_lexer": "ipython3",
   "version": "3.11.4"
  }
 },
 "nbformat": 4,
 "nbformat_minor": 2
}
