{
 "cells": [
  {
   "cell_type": "code",
   "execution_count": 1,
   "id": "527d4950",
   "metadata": {},
   "outputs": [
    {
     "name": "stdout",
     "output_type": "stream",
     "text": [
      "Hello world\n"
     ]
    }
   ],
   "source": [
    "print(\"Hello world\")"
   ]
  },
  {
   "cell_type": "code",
   "execution_count": 2,
   "id": "0aacbd74",
   "metadata": {},
   "outputs": [
    {
     "data": {
      "text/plain": [
       "31536000"
      ]
     },
     "execution_count": 2,
     "metadata": {},
     "output_type": "execute_result"
    }
   ],
   "source": [
    "365 * 24 *60*60"
   ]
  },
  {
   "cell_type": "code",
   "execution_count": 3,
   "id": "9684bae4",
   "metadata": {},
   "outputs": [
    {
     "data": {
      "text/plain": [
       "31536000000000.0"
      ]
     },
     "execution_count": 3,
     "metadata": {},
     "output_type": "execute_result"
    }
   ],
   "source": [
    "_ * 1e6"
   ]
  },
  {
   "cell_type": "markdown",
   "id": "1ccc7821",
   "metadata": {},
   "source": [
    "# This is a markdown cell Heading one\n",
    "## This is the heading two\n",
    "\n",
    "Hi!\n",
    "* One fish\n",
    "* Two fish\n",
    "* Red fish\n",
    "* Blue fish\n",
    "\n",
    "*italic*, **bold**\n",
    "\n",
    "http://google.com"
   ]
  },
  {
   "cell_type": "code",
   "execution_count": 1,
   "id": "9a76dd20",
   "metadata": {},
   "outputs": [
    {
     "name": "stdout",
     "output_type": "stream",
     "text": [
      "Hi\n"
     ]
    }
   ],
   "source": [
    "!echo Hi"
   ]
  }
 ],
 "metadata": {
  "kernelspec": {
   "display_name": "Python 3 (ipykernel)",
   "language": "python",
   "name": "python3"
  },
  "language_info": {
   "codemirror_mode": {
    "name": "ipython",
    "version": 3
   },
   "file_extension": ".py",
   "mimetype": "text/x-python",
   "name": "python",
   "nbconvert_exporter": "python",
   "pygments_lexer": "ipython3",
   "version": "3.11.4"
  }
 },
 "nbformat": 4,
 "nbformat_minor": 5
}
